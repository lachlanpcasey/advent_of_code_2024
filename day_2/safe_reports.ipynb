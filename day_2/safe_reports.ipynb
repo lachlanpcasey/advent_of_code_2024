{
 "cells": [
  {
   "cell_type": "code",
   "execution_count": 37,
   "metadata": {},
   "outputs": [],
   "source": [
    "import logging\n",
    "import pandas as pd"
   ]
  },
  {
   "cell_type": "code",
   "execution_count": 69,
   "metadata": {},
   "outputs": [],
   "source": [
    "# Set up logging\n",
    "logger = logging.getLogger()"
   ]
  },
  {
   "cell_type": "code",
   "execution_count": 3,
   "metadata": {},
   "outputs": [],
   "source": [
    "df = pd.read_csv(\"reports.csv\", header = None)"
   ]
  },
  {
   "cell_type": "code",
   "execution_count": 126,
   "metadata": {},
   "outputs": [],
   "source": [
    "def reports_safe(df):\n",
    "    report_safety_results = []\n",
    "\n",
    "    for row in df.to_numpy():\n",
    "        previous_value = row[0]\n",
    "        is_increasing = False\n",
    "        is_decreasing = False\n",
    "        is_safe = True\n",
    "\n",
    "        for idx, value in enumerate(row[1:], start=1):  # Skip the first element, since it's the initial value\n",
    "            if abs(value - previous_value) > 3:\n",
    "                is_safe = False\n",
    "                break\n",
    "\n",
    "            if value == previous_value:  # If the value is stagnant (equal to the previous value), mark it unsafe\n",
    "                is_safe = False\n",
    "                break\n",
    "\n",
    "            if value > previous_value:\n",
    "                is_increasing = True\n",
    "            elif value < previous_value:\n",
    "                is_decreasing = True\n",
    "\n",
    "            previous_value = value\n",
    "\n",
    "        # If both increasing and decreasing trends are detected, the row is unsafe\n",
    "        if is_increasing and is_decreasing:\n",
    "            is_safe = False\n",
    "\n",
    "        report_safety_results.append(is_safe)\n",
    "\n",
    "    return report_safety_results"
   ]
  },
  {
   "cell_type": "code",
   "execution_count": 129,
   "metadata": {},
   "outputs": [
    {
     "name": "stdout",
     "output_type": "stream",
     "text": [
      "472\n"
     ]
    }
   ],
   "source": [
    "result = sum(reports_safe(df))\n",
    "print(result)"
   ]
  }
 ],
 "metadata": {
  "kernelspec": {
   "display_name": "Python 3",
   "language": "python",
   "name": "python3"
  },
  "language_info": {
   "codemirror_mode": {
    "name": "ipython",
    "version": 3
   },
   "file_extension": ".py",
   "mimetype": "text/x-python",
   "name": "python",
   "nbconvert_exporter": "python",
   "pygments_lexer": "ipython3",
   "version": "3.10.6"
  }
 },
 "nbformat": 4,
 "nbformat_minor": 2
}
