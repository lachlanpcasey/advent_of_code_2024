{
 "cells": [
  {
   "cell_type": "code",
   "execution_count": 5,
   "metadata": {},
   "outputs": [],
   "source": [
    "import pandas as pd"
   ]
  },
  {
   "cell_type": "code",
   "execution_count": 7,
   "metadata": {},
   "outputs": [],
   "source": [
    "df = pd.read_csv(\"values.csv\")"
   ]
  },
  {
   "cell_type": "code",
   "execution_count": 27,
   "metadata": {},
   "outputs": [],
   "source": [
    "df_1_sorted = df['list_1'].sort_values().reset_index(drop=True)\n",
    "df_2_sorted = df['list_2'].sort_values().reset_index(drop=True)"
   ]
  },
  {
   "cell_type": "code",
   "execution_count": 28,
   "metadata": {},
   "outputs": [
    {
     "name": "stdout",
     "output_type": "stream",
     "text": [
      "df_1_smallest number: 10042\n",
      "df_2_smallest number: 10260\n",
      "Smallest Difference: 218\n",
      "df_1_largest number: 99974\n",
      "df_2_largest number: 99676\n",
      "Difference between largest numbers: -298\n"
     ]
    }
   ],
   "source": [
    "print(\n",
    "    f\"df_1_smallest number: {df_1_sorted.iloc[0]}\\n\"\n",
    "    f\"df_2_smallest number: {df_2_sorted.iloc[0]}\\n\"\n",
    "    f\"Smallest Difference: {df_2_sorted.iloc[0] - df_1_sorted.iloc[0]}\\n\"\n",
    "    f\"df_1_largest number: {df_1_sorted.iloc[-1]}\\n\"\n",
    "    f\"df_2_largest number: {df_2_sorted.iloc[-1]}\\n\"\n",
    "    f\"Difference between largest numbers: {df_2_sorted.iloc[-1] - df_1_sorted.iloc[-1]}\"\n",
    ")"
   ]
  },
  {
   "cell_type": "code",
   "execution_count": 29,
   "metadata": {},
   "outputs": [
    {
     "name": "stdout",
     "output_type": "stream",
     "text": [
      "0      218\n",
      "1      234\n",
      "2      274\n",
      "3      690\n",
      "4      612\n",
      "      ... \n",
      "995      0\n",
      "996     74\n",
      "997    282\n",
      "998    333\n",
      "999    298\n",
      "Length: 1000, dtype: int64\n"
     ]
    }
   ],
   "source": [
    "difference = abs(df_2_sorted - df_1_sorted)\n",
    "print(difference)"
   ]
  },
  {
   "cell_type": "code",
   "execution_count": 31,
   "metadata": {},
   "outputs": [
    {
     "name": "stdout",
     "output_type": "stream",
     "text": [
      "1506483\n"
     ]
    }
   ],
   "source": [
    "answer = sum(difference)\n",
    "print(answer)"
   ]
  }
 ],
 "metadata": {
  "kernelspec": {
   "display_name": "Python 3",
   "language": "python",
   "name": "python3"
  },
  "language_info": {
   "codemirror_mode": {
    "name": "ipython",
    "version": 3
   },
   "file_extension": ".py",
   "mimetype": "text/x-python",
   "name": "python",
   "nbconvert_exporter": "python",
   "pygments_lexer": "ipython3",
   "version": "3.10.6"
  }
 },
 "nbformat": 4,
 "nbformat_minor": 2
}
